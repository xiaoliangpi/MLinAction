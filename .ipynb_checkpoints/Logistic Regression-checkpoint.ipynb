{
 "cells": [
  {
   "cell_type": "code",
   "execution_count": null,
   "id": "f7cb9e3b",
   "metadata": {},
   "outputs": [],
   "source": [
    "#获取各个数据对应的类别标签\n",
    "def loadDataSet():\n",
    "    dataMat = []\n",
    "    labelMat = []\n",
    "    fl = open('')\n",
    "    for line in fl.readline():  #逐行读取\n",
    "        lineArr = line.strip.split()  #strip去掉首尾，split按照空格来划分\n",
    "        dataMat.append([1.0, float(lineArr[0]), float(lineArr[1])])\n",
    "        #x0默认为1，然后添加lineArr的0和1个元素为x1，x2\n",
    "        \n",
    "        labelMat.append(int(lineArr[2]))  #将标签添加到labeMat\n",
    "    return dataMat, labelMat\n",
    "\n",
    "#定义sigmoid函数\n",
    "def sigmoid(inX):\n",
    "    return 1.0/(1+exp(-inX))\n",
    "\n",
    "#梯度下降算法（按照书里是梯度上升）\n",
    "def gradAscent(dataMatIn, classLabels):\n",
    "    dataMatrix = mat(dataMatIn)  #把dataMatIn转化为Numpy矩阵\n",
    "    labelMat = mat(classLabels).transpose()  #将label进行转置\n",
    "    row,col = shape(dataMat)  #获取数据的行和列大小\n",
    "    alpha = 0.01 #更新步长\n",
    "    maxCycle = 500  #500轮次\n",
    "    weights = ones((col,1))  #权重初始化\n",
    "    for k  in range(maxCycle):\n",
    "        h = sigmoid(dataMatrix*weights)  #获得预测值\n",
    "        error = labelMat - h          #预测值与真实值之间误差\n",
    "        weights = weights + alpha * dataMatrix.transpose() * error  #更新权重\n",
    "    return weights\n",
    "\n",
    "def plotBestFit(weights):\n",
    "    import matplotlib.pyplot as plt\n",
    "    dataMat, labelMat = loadDataSet()  #加载数据集\n",
    "    dataArr = array(dataMat)  #转换成numpy的array数组\n",
    "    num = shape(dataArr)[0]\n",
    "    "
   ]
  }
 ],
 "metadata": {
  "kernelspec": {
   "display_name": "Python 3",
   "language": "python",
   "name": "python3"
  },
  "language_info": {
   "codemirror_mode": {
    "name": "ipython",
    "version": 3
   },
   "file_extension": ".py",
   "mimetype": "text/x-python",
   "name": "python",
   "nbconvert_exporter": "python",
   "pygments_lexer": "ipython3",
   "version": "3.8.8"
  }
 },
 "nbformat": 4,
 "nbformat_minor": 5
}
