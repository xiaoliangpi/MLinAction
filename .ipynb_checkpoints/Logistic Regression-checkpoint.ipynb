{
 "cells": [
  {
   "cell_type": "code",
   "execution_count": 72,
   "id": "f7cb9e3b",
   "metadata": {},
   "outputs": [],
   "source": [
    "from numpy import *\n",
    "import matplotlib.pyplot as plt\n",
    "#获取各个数据对应的类别标签\n",
    "def loadDataSet():\n",
    "    dataMat = []\n",
    "    labelMat = []\n",
    "    fl = open('D:\\\\myOwnData\\\\digits\\\\testSet.txt')\n",
    "    for line in fl.readlines():  #逐行读取\n",
    "        lineArr = line.strip().split()  #strip去掉首尾，split按照空格来划分\n",
    "        dataMat.append([1.0, float(lineArr[0]), float(lineArr[1])])\n",
    "        #x0默认为1，然后添加lineArr的0和1个元素为x1，x2\n",
    "        \n",
    "        labelMat.append(int(lineArr[2]))  #将标签添加到labeMat\n",
    "    return dataMat, labelMat\n",
    "\n",
    "#定义sigmoid函数\n",
    "def sigmoid(inX):\n",
    "    return 1.0/(1+exp(-inX))\n",
    "\n",
    "#梯度下降算法（按照书里是梯度上升）\n",
    "def gradAscent(dataMatIn, classLabels):\n",
    "    dataMatrix = mat(dataMatIn)  #把dataMatIn转化为Numpy矩阵\n",
    "    labelMat = mat(classLabels).transpose()  #将label进行转置\n",
    "    row,col = shape(dataMatrix)  #获取数据的行和列大小\n",
    "    alpha = 0.01 #更新步长\n",
    "    maxCycle = 900  #500轮次\n",
    "    weights = ones((col,1))  #权重初始化\n",
    "    for k  in range(maxCycle):\n",
    "        h = sigmoid(dataMatrix*weights)  #获得预测值\n",
    "        error = labelMat - h          #预测值与真实值之间误差\n",
    "        weights = weights + alpha * dataMatrix.transpose() * error  #更新权重\n",
    "    return weights\n",
    "    "
   ]
  },
  {
   "cell_type": "code",
   "execution_count": 85,
   "id": "a4065ce4",
   "metadata": {},
   "outputs": [
    {
     "data": {
      "text/plain": [
       "matrix([[13.21097823],\n",
       "        [ 1.14789242],\n",
       "        [-1.79742822]])"
      ]
     },
     "execution_count": 85,
     "metadata": {},
     "output_type": "execute_result"
    }
   ],
   "source": [
    "dataArr, labelMat = loadDataSet()\n",
    "gradAscent(dataArr, labelMat)"
   ]
  },
  {
   "cell_type": "code",
   "execution_count": 150,
   "id": "c11e81bd",
   "metadata": {},
   "outputs": [],
   "source": [
    "import matplotlib.pyplot as plt\n",
    "def plotBestFit(weights):\n",
    "    dataMat, labelMat = loadDataSet()  #加载数据集\n",
    "    dataArr = array(dataMat)  #转换成numpy的array数组\n",
    "    num = shape(dataArr)[0]\n",
    "    xcord1 = []; ycord1 = []\n",
    "    xcord2 = []; ycord2 = []\n",
    "    for i in range(num):\n",
    "        if int(labelMat[i] ==1):\n",
    "            xcord1.append(dataArr[i,1]); ycord1.append(dataArr[i,2])\n",
    "        else:\n",
    "            xcord2.append(dataArr[i,1]); ycord2.append(dataArr[i,2])\n",
    "    fig = plt.figure()\n",
    "    ax = fig.add_subplot(111)\n",
    "    ax.scatter(xcord1, ycord1, s=30, c='red', marker='s')\n",
    "    ax.scatter(xcord2, ycord2, s=30, c='green')\n",
    "    x = arange(-3.0,3.0,0.1)\n",
    "    y = (-weights[0]-weights[1]*x)/weights[2]\n",
    "    y = y.transpose()\n",
    "    ax.plot(x, y)\n",
    "    plt.xlabel('x1'); plt.ylabel('x2')\n",
    "    plt.show()\n",
    "\n",
    "def plotError(rangeX,errorArray,maxCycle):\n",
    "    fig = plt.figure()\n",
    "    plt.plot(rangeX,errorArray,linewidth=2)\n",
    "    plt.xticks(arange(0, maxCycle, maxCycle/10)) # 设置横坐标轴的刻度为 0 到 10 的数组\n",
    "    plt.ylim([0, 20]) # 设置纵坐标轴范围为 -2 到 2\n",
    "    plt.xlabel('times of training cercle'); plt.ylabel('error')"
   ]
  },
  {
   "cell_type": "code",
   "execution_count": null,
   "id": "ceeb30d7",
   "metadata": {},
   "outputs": [],
   "source": [
    "def sGradAscent0(dataMatrix, classLabels):\n",
    "    row, col = shape(dataMatrix)\n",
    "    alpha = 0.01\n",
    "    weights = ones(col)\n",
    "    maxCycle = 1000  #500轮次\n",
    "    errorArray = []\n",
    "    rangex = []\n",
    "    for k in range(maxCycle):\n",
    "        sumError = 0\n",
    "        for i in range(row):\n",
    "            h = sigmoid(sum(dataMatrix[i]*weights))\n",
    "            error = classLabels[i] - h\n",
    "            weights = weights + alpha * error * float_(dataMatrix[i])\n",
    "            sumError += error\n",
    "        errorArray.append(sumError)\n",
    "        rangex.append(k)\n",
    "    return weights,rangex,errorArray,maxCycle"
   ]
  },
  {
   "cell_type": "code",
   "execution_count": 151,
   "id": "39888f67",
   "metadata": {},
   "outputs": [],
   "source": [
    "#改进后的随机梯度下降\n",
    "def sGradAscent1(dataMatrix, classLabels, numIter = 150):\n",
    "    row,col = shape(dataMatrix)\n",
    "    weights = ones(col)\n",
    "    for j in range(numIter):\n",
    "        dataIndex = range(row)\n",
    "        for i in range(row):\n",
    "            alpha = 4/(1.0+j+i)+0.01\n",
    "            randIndex = int(random.uniform(0,len(dataIndex)))\n",
    "            h = sigmoid(sum(dataMatrix[randIndex]*weights))\n",
    "            error = classLabels[randIndex] - h\n",
    "            weights = weights + alpha * error * dataMatrix[randIndex]\n",
    "            del(dataIndex[randIndex])\n",
    "    return weights"
   ]
  },
  {
   "cell_type": "code",
   "execution_count": 152,
   "id": "a17d3491",
   "metadata": {},
   "outputs": [
    {
     "data": {
      "image/png": "[encoded data removed]",
      "text/plain": [
       "<Figure size 432x288 with 1 Axes>"
      ]
     },
     "metadata": {
      "needs_background": "light"
     },
     "output_type": "display_data"
    },
    {
     "data": {
      "image/png": "[encoded data removed]",
      "text/plain": [
       "<Figure size 432x288 with 1 Axes>"
      ]
     },
     "metadata": {
      "needs_background": "light"
     },
     "output_type": "display_data"
    }
   ],
   "source": [
    "dataArr, labelMat = loadDataSet()\n",
    "weights,rangeX,errorArray,maxCycle = sGradAscent0(dataArr, labelMat)\n",
    "plotBestFit(weights)\n",
    "plotError(rangeX,errorArray,maxCycle)"
   ]
  },
  {
   "cell_type": "code",
   "execution_count": null,
   "id": "45454cac",
   "metadata": {},
   "outputs": [],
   "source": []
  },
  {
   "cell_type": "code",
   "execution_count": null,
   "id": "48e48a91",
   "metadata": {},
   "outputs": [],
   "source": []
  },
  {
   "cell_type": "code",
   "execution_count": null,
   "id": "48bd5807",
   "metadata": {},
   "outputs": [],
   "source": []
  }
 ],
 "metadata": {
  "kernelspec": {
   "display_name": "Python 3",
   "language": "python",
   "name": "python3"
  },
  "language_info": {
   "codemirror_mode": {
    "name": "ipython",
    "version": 3
   },
   "file_extension": ".py",
   "mimetype": "text/x-python",
   "name": "python",
   "nbconvert_exporter": "python",
   "pygments_lexer": "ipython3",
   "version": "3.8.8"
  }
 },
 "nbformat": 4,
 "nbformat_minor": 5
}
